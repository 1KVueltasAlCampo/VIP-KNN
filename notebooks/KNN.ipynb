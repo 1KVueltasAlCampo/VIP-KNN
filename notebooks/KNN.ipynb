{
  "nbformat": 4,
  "nbformat_minor": 0,
  "metadata": {
    "colab": {
      "name": "KNN.ipynb",
      "provenance": [],
      "collapsed_sections": []
    },
    "kernelspec": {
      "name": "python3",
      "display_name": "Python 3"
    }
  },
  "cells": [
    {
      "cell_type": "code",
      "metadata": {
        "id": "Kuupz5p1glC0"
      },
      "source": [
        "import numpy as np\n",
        "import pandas as pd\n",
        "class KNN():\n",
        "\n",
        "  def __init__(self, k):\n",
        "    \"\"\"\n",
        "    Creates a new KNN object.\n",
        "    \n",
        "    Arguments:\n",
        "      K: the number of nearest neighboors\n",
        "    \"\"\"\n",
        "    self.k = k\n",
        "\n",
        "  def get_k_nearest_neighboors(self, datapoint):\n",
        "    \"\"\"\n",
        "    Gets the k-nearest neighboors of a given datapoint\n",
        "    Argunments:\n",
        "      datapoint: numpy.array, a row vector\n",
        "    Returns:\n",
        "      indices: list, indices corresponding with the k datapoints in self.X most \n",
        "               similar to datapoint   \n",
        "    \"\"\"\n",
        "  \n",
        "    distances=[]   #distances between the matrix and the datapoint\n",
        "\n",
        "\n",
        "    size=len(self.data)\n",
        "    vector_of_the_matrix=[]\n",
        "\n",
        "\n",
        "    for i in range(size):\n",
        "      vector_of_the_matrix=self.data[i]\n",
        "      np_vector_of_the_matrix=np.array(vector_of_the_matrix)\n",
        "      two_vectors_difference=self.calculate_distance(datapoint,np_vector_of_the_matrix)\n",
        "      distances.append(two_vectors_difference)\n",
        "\n",
        "    distances=np.array(distances)\n",
        "    indices=distances.argsort()\n",
        "    k_indices = []\n",
        "    for i in range(self.k):\n",
        "        k_indices.append(indices[i])\n",
        "\n",
        "    return k_indices  \n",
        "    \n",
        "\n",
        "  def calculate_distance(self,datapoint1, datapoint2):\n",
        "    \"\"\"\n",
        "    Calculates the euclidean \n",
        "    Arguments:\n",
        "      datapoint1: numpy.array, first datapoint. It's the row vector we want to compare with the others.\n",
        "      datapoint2: numpy.array, second datapoint\n",
        "    Returns:\n",
        "      Distance between the given datapoints\n",
        "    \"\"\"\n",
        "    if isinstance(datapoint1,np.ndarray) and isinstance(datapoint2,np.ndarray):\n",
        "        array3 = np.subtract(datapoint2,datapoint1)\n",
        "        return np.linalg.norm(array3)\n",
        "    else:\n",
        "      raise ValueError(\" Datatype not valid\")\n",
        "  \n",
        "\n",
        "  def fit(self, main_matrix, y): #main_matrix antes era X\n",
        "    \"\"\"\n",
        "    Train the model, i.e., allocate the dictionary with features by datapoint \n",
        "    and their corresponding class\n",
        "\n",
        "    Arguments:\n",
        "      main_matrix: numpy.ndarray, matrix used to train the model, where each row represents a datapoint.  \n",
        "    No returns:\n",
        "    \"\"\"\n",
        "    self.data = main_matrix\n",
        "    self.classes = y\n",
        "\n",
        "  def predict(self, X): \n",
        "    \"\"\"\n",
        "    Predicts the class for each datapoint in the matrix X.\n",
        "    Arguments:\n",
        "      X: numpy.ndarray, matrix used to get predictions for each datapoint, where each row represents a datapoint.  \n",
        "    Returns:\n",
        "      predictions: numpy.ndarray, class predicted for each datapoint in X\n",
        "    \"\"\"\n",
        "    preds = []\n",
        "    for datapoint in X:\n",
        "      indices=self.get_k_nearest_neighboors(datapoint)\n",
        "      #Obtener los indices de las clases\n",
        "      classes = np.array([self.classes[idX] for idX in indices]) \n",
        "      #Obtener la clase mas frecuente de los vecinos mas cercanos\n",
        "      counts = np.bincount(classes)\n",
        "      predicted_class=np.argmax(counts)\n",
        "      preds.append(predicted_class)  \n",
        "    return np.array(preds)"
      ],
      "execution_count": null,
      "outputs": []
    },
    {
      "cell_type": "code",
      "metadata": {
        "colab": {
          "base_uri": "https://localhost:8080/"
        },
        "id": "5bB3bwVV1mtX",
        "outputId": "7c1d1a36-a238-4670-d31f-9edd4288aeaa"
      },
      "source": [
        "type(np.ndarray) "
      ],
      "execution_count": null,
      "outputs": [
        {
          "output_type": "execute_result",
          "data": {
            "text/plain": [
              "type"
            ]
          },
          "metadata": {
            "tags": []
          },
          "execution_count": 12
        }
      ]
    },
    {
      "cell_type": "code",
      "metadata": {
        "id": "UOBfARmHuqj8"
      },
      "source": [
        "from sklearn.datasets import load_iris\n",
        "iris=load_iris()\n",
        "X=iris.data\n",
        "y=iris.target\n",
        "from sklearn.model_selection import train_test_split\n",
        "X_train,X_test,y_train,y_test=train_test_split(X,y,test_size=0.3)\n"
      ],
      "execution_count": null,
      "outputs": []
    },
    {
      "cell_type": "code",
      "metadata": {
        "colab": {
          "base_uri": "https://localhost:8080/"
        },
        "id": "Tyu9hV8pzNVl",
        "outputId": "dc917f28-93dc-424e-f8aa-cb0bc603b59c"
      },
      "source": [
        "object_knn= KNN(5)\n",
        "object_knn.fit(X_train,y_train)\n",
        "prediction=object_knn.predict(X_test)\n",
        "print(prediction)"
      ],
      "execution_count": null,
      "outputs": [
        {
          "output_type": "stream",
          "text": [
            "[1 0 0 1 1 2 1 0 1 0 2 1 1 0 1 2 0 0 0 0 2 0 0 1 2 1 2 2 0 1 0 1 0 2 1 0 0\n",
            " 1 1 2 1 0 1 0 2]\n"
          ],
          "name": "stdout"
        }
      ]
    },
    {
      "cell_type": "code",
      "metadata": {
        "colab": {
          "base_uri": "https://localhost:8080/"
        },
        "id": "Ga7zANP07dtq",
        "outputId": "9fe0680e-5cb9-470b-dfd7-8e59a8b2ed73"
      },
      "source": [
        "np.sum(prediction == y_test) / len(prediction)"
      ],
      "execution_count": null,
      "outputs": [
        {
          "output_type": "execute_result",
          "data": {
            "text/plain": [
              "0.9777777777777777"
            ]
          },
          "metadata": {
            "tags": []
          },
          "execution_count": 30
        }
      ]
    },
    {
      "cell_type": "code",
      "metadata": {
        "colab": {
          "base_uri": "https://localhost:8080/",
          "height": 35
        },
        "id": "NuSIROwsoATB",
        "outputId": "d50896b0-758e-4abb-d2df-beef88048361"
      },
      "source": [
        "matrix = {\n",
        "  1,\n",
        "  2,\n",
        "  3,\n",
        "  4,\n",
        "  2\n",
        "}\n",
        "dict.get(\"brand\")"
      ],
      "execution_count": null,
      "outputs": [
        {
          "output_type": "execute_result",
          "data": {
            "application/vnd.google.colaboratory.intrinsic+json": {
              "type": "string"
            },
            "text/plain": [
              "'Ford'"
            ]
          },
          "metadata": {
            "tags": []
          },
          "execution_count": 21
        }
      ]
    },
    {
      "cell_type": "code",
      "metadata": {
        "colab": {
          "base_uri": "https://localhost:8080/"
        },
        "id": "6A73kkqbqAMC",
        "outputId": "0e59ec75-17ef-478d-a294-f03f08e289ec"
      },
      "source": [
        "from sklearn.datasets import load_iris\n",
        "data,classes = load_iris(return_X_y=True)\n",
        "print(data)\n",
        "print(classes)"
      ],
      "execution_count": null,
      "outputs": [
        {
          "output_type": "stream",
          "text": [
            "[[5.1 3.5 1.4 0.2]\n",
            " [4.9 3.  1.4 0.2]\n",
            " [4.7 3.2 1.3 0.2]\n",
            " [4.6 3.1 1.5 0.2]\n",
            " [5.  3.6 1.4 0.2]\n",
            " [5.4 3.9 1.7 0.4]\n",
            " [4.6 3.4 1.4 0.3]\n",
            " [5.  3.4 1.5 0.2]\n",
            " [4.4 2.9 1.4 0.2]\n",
            " [4.9 3.1 1.5 0.1]\n",
            " [5.4 3.7 1.5 0.2]\n",
            " [4.8 3.4 1.6 0.2]\n",
            " [4.8 3.  1.4 0.1]\n",
            " [4.3 3.  1.1 0.1]\n",
            " [5.8 4.  1.2 0.2]\n",
            " [5.7 4.4 1.5 0.4]\n",
            " [5.4 3.9 1.3 0.4]\n",
            " [5.1 3.5 1.4 0.3]\n",
            " [5.7 3.8 1.7 0.3]\n",
            " [5.1 3.8 1.5 0.3]\n",
            " [5.4 3.4 1.7 0.2]\n",
            " [5.1 3.7 1.5 0.4]\n",
            " [4.6 3.6 1.  0.2]\n",
            " [5.1 3.3 1.7 0.5]\n",
            " [4.8 3.4 1.9 0.2]\n",
            " [5.  3.  1.6 0.2]\n",
            " [5.  3.4 1.6 0.4]\n",
            " [5.2 3.5 1.5 0.2]\n",
            " [5.2 3.4 1.4 0.2]\n",
            " [4.7 3.2 1.6 0.2]\n",
            " [4.8 3.1 1.6 0.2]\n",
            " [5.4 3.4 1.5 0.4]\n",
            " [5.2 4.1 1.5 0.1]\n",
            " [5.5 4.2 1.4 0.2]\n",
            " [4.9 3.1 1.5 0.2]\n",
            " [5.  3.2 1.2 0.2]\n",
            " [5.5 3.5 1.3 0.2]\n",
            " [4.9 3.6 1.4 0.1]\n",
            " [4.4 3.  1.3 0.2]\n",
            " [5.1 3.4 1.5 0.2]\n",
            " [5.  3.5 1.3 0.3]\n",
            " [4.5 2.3 1.3 0.3]\n",
            " [4.4 3.2 1.3 0.2]\n",
            " [5.  3.5 1.6 0.6]\n",
            " [5.1 3.8 1.9 0.4]\n",
            " [4.8 3.  1.4 0.3]\n",
            " [5.1 3.8 1.6 0.2]\n",
            " [4.6 3.2 1.4 0.2]\n",
            " [5.3 3.7 1.5 0.2]\n",
            " [5.  3.3 1.4 0.2]\n",
            " [7.  3.2 4.7 1.4]\n",
            " [6.4 3.2 4.5 1.5]\n",
            " [6.9 3.1 4.9 1.5]\n",
            " [5.5 2.3 4.  1.3]\n",
            " [6.5 2.8 4.6 1.5]\n",
            " [5.7 2.8 4.5 1.3]\n",
            " [6.3 3.3 4.7 1.6]\n",
            " [4.9 2.4 3.3 1. ]\n",
            " [6.6 2.9 4.6 1.3]\n",
            " [5.2 2.7 3.9 1.4]\n",
            " [5.  2.  3.5 1. ]\n",
            " [5.9 3.  4.2 1.5]\n",
            " [6.  2.2 4.  1. ]\n",
            " [6.1 2.9 4.7 1.4]\n",
            " [5.6 2.9 3.6 1.3]\n",
            " [6.7 3.1 4.4 1.4]\n",
            " [5.6 3.  4.5 1.5]\n",
            " [5.8 2.7 4.1 1. ]\n",
            " [6.2 2.2 4.5 1.5]\n",
            " [5.6 2.5 3.9 1.1]\n",
            " [5.9 3.2 4.8 1.8]\n",
            " [6.1 2.8 4.  1.3]\n",
            " [6.3 2.5 4.9 1.5]\n",
            " [6.1 2.8 4.7 1.2]\n",
            " [6.4 2.9 4.3 1.3]\n",
            " [6.6 3.  4.4 1.4]\n",
            " [6.8 2.8 4.8 1.4]\n",
            " [6.7 3.  5.  1.7]\n",
            " [6.  2.9 4.5 1.5]\n",
            " [5.7 2.6 3.5 1. ]\n",
            " [5.5 2.4 3.8 1.1]\n",
            " [5.5 2.4 3.7 1. ]\n",
            " [5.8 2.7 3.9 1.2]\n",
            " [6.  2.7 5.1 1.6]\n",
            " [5.4 3.  4.5 1.5]\n",
            " [6.  3.4 4.5 1.6]\n",
            " [6.7 3.1 4.7 1.5]\n",
            " [6.3 2.3 4.4 1.3]\n",
            " [5.6 3.  4.1 1.3]\n",
            " [5.5 2.5 4.  1.3]\n",
            " [5.5 2.6 4.4 1.2]\n",
            " [6.1 3.  4.6 1.4]\n",
            " [5.8 2.6 4.  1.2]\n",
            " [5.  2.3 3.3 1. ]\n",
            " [5.6 2.7 4.2 1.3]\n",
            " [5.7 3.  4.2 1.2]\n",
            " [5.7 2.9 4.2 1.3]\n",
            " [6.2 2.9 4.3 1.3]\n",
            " [5.1 2.5 3.  1.1]\n",
            " [5.7 2.8 4.1 1.3]\n",
            " [6.3 3.3 6.  2.5]\n",
            " [5.8 2.7 5.1 1.9]\n",
            " [7.1 3.  5.9 2.1]\n",
            " [6.3 2.9 5.6 1.8]\n",
            " [6.5 3.  5.8 2.2]\n",
            " [7.6 3.  6.6 2.1]\n",
            " [4.9 2.5 4.5 1.7]\n",
            " [7.3 2.9 6.3 1.8]\n",
            " [6.7 2.5 5.8 1.8]\n",
            " [7.2 3.6 6.1 2.5]\n",
            " [6.5 3.2 5.1 2. ]\n",
            " [6.4 2.7 5.3 1.9]\n",
            " [6.8 3.  5.5 2.1]\n",
            " [5.7 2.5 5.  2. ]\n",
            " [5.8 2.8 5.1 2.4]\n",
            " [6.4 3.2 5.3 2.3]\n",
            " [6.5 3.  5.5 1.8]\n",
            " [7.7 3.8 6.7 2.2]\n",
            " [7.7 2.6 6.9 2.3]\n",
            " [6.  2.2 5.  1.5]\n",
            " [6.9 3.2 5.7 2.3]\n",
            " [5.6 2.8 4.9 2. ]\n",
            " [7.7 2.8 6.7 2. ]\n",
            " [6.3 2.7 4.9 1.8]\n",
            " [6.7 3.3 5.7 2.1]\n",
            " [7.2 3.2 6.  1.8]\n",
            " [6.2 2.8 4.8 1.8]\n",
            " [6.1 3.  4.9 1.8]\n",
            " [6.4 2.8 5.6 2.1]\n",
            " [7.2 3.  5.8 1.6]\n",
            " [7.4 2.8 6.1 1.9]\n",
            " [7.9 3.8 6.4 2. ]\n",
            " [6.4 2.8 5.6 2.2]\n",
            " [6.3 2.8 5.1 1.5]\n",
            " [6.1 2.6 5.6 1.4]\n",
            " [7.7 3.  6.1 2.3]\n",
            " [6.3 3.4 5.6 2.4]\n",
            " [6.4 3.1 5.5 1.8]\n",
            " [6.  3.  4.8 1.8]\n",
            " [6.9 3.1 5.4 2.1]\n",
            " [6.7 3.1 5.6 2.4]\n",
            " [6.9 3.1 5.1 2.3]\n",
            " [5.8 2.7 5.1 1.9]\n",
            " [6.8 3.2 5.9 2.3]\n",
            " [6.7 3.3 5.7 2.5]\n",
            " [6.7 3.  5.2 2.3]\n",
            " [6.3 2.5 5.  1.9]\n",
            " [6.5 3.  5.2 2. ]\n",
            " [6.2 3.4 5.4 2.3]\n",
            " [5.9 3.  5.1 1.8]]\n",
            "[0 0 0 0 0 0 0 0 0 0 0 0 0 0 0 0 0 0 0 0 0 0 0 0 0 0 0 0 0 0 0 0 0 0 0 0 0\n",
            " 0 0 0 0 0 0 0 0 0 0 0 0 0 1 1 1 1 1 1 1 1 1 1 1 1 1 1 1 1 1 1 1 1 1 1 1 1\n",
            " 1 1 1 1 1 1 1 1 1 1 1 1 1 1 1 1 1 1 1 1 1 1 1 1 1 1 2 2 2 2 2 2 2 2 2 2 2\n",
            " 2 2 2 2 2 2 2 2 2 2 2 2 2 2 2 2 2 2 2 2 2 2 2 2 2 2 2 2 2 2 2 2 2 2 2 2 2\n",
            " 2 2]\n"
          ],
          "name": "stdout"
        }
      ]
    },
    {
      "cell_type": "code",
      "metadata": {
        "colab": {
          "base_uri": "https://localhost:8080/"
        },
        "id": "bLcRxit5xTEh",
        "outputId": "7fd0e9ec-e5cf-4d6b-dc26-6174953a1586"
      },
      "source": [
        "l=np.array([1,5,0,12,52,1,4])\n",
        "indices=l.argsort()\n",
        "kIndices = indices[:5]\n",
        "print(kIndices)\n"
      ],
      "execution_count": null,
      "outputs": [
        {
          "output_type": "stream",
          "text": [
            "[2 0 5 6 1]\n"
          ],
          "name": "stdout"
        }
      ]
    },
    {
      "cell_type": "code",
      "metadata": {
        "colab": {
          "base_uri": "https://localhost:8080/"
        },
        "id": "OR47Hq3vrk1x",
        "outputId": "6691306b-57cb-48b0-b4b9-12fe02f4856a"
      },
      "source": [
        "classes[kIndices]"
      ],
      "execution_count": null,
      "outputs": [
        {
          "output_type": "execute_result",
          "data": {
            "text/plain": [
              "array([0, 0, 0, 0, 0])"
            ]
          },
          "metadata": {
            "tags": []
          },
          "execution_count": 29
        }
      ]
    },
    {
      "cell_type": "code",
      "metadata": {
        "colab": {
          "base_uri": "https://localhost:8080/"
        },
        "id": "4KRszPugshTQ",
        "outputId": "d7814f5b-7fd2-49c1-c76b-346a9d861060"
      },
      "source": [
        "a = classes[kIndices]\n",
        "counts = np.bincount(a)\n",
        "print(np.argmax(counts))"
      ],
      "execution_count": null,
      "outputs": [
        {
          "output_type": "stream",
          "text": [
            "0\n"
          ],
          "name": "stdout"
        }
      ]
    },
    {
      "cell_type": "code",
      "metadata": {
        "colab": {
          "base_uri": "https://localhost:8080/"
        },
        "id": "_LeHl3LDhfT9",
        "outputId": "dde33f0d-41b3-4ec8-8be1-5dc8b90e4cd9"
      },
      "source": [
        "c=[]\n",
        "c.append(12)\n",
        "c"
      ],
      "execution_count": null,
      "outputs": [
        {
          "output_type": "execute_result",
          "data": {
            "text/plain": [
              "[12]"
            ]
          },
          "metadata": {
            "tags": []
          },
          "execution_count": 16
        }
      ]
    },
    {
      "cell_type": "code",
      "metadata": {
        "colab": {
          "base_uri": "https://localhost:8080/"
        },
        "id": "iLc_hUBApv_s",
        "outputId": "002a0a2d-42f5-40c0-ddad-ec9ef85b39a8"
      },
      "source": [
        "m = [[9, 8, 7],\n",
        "     [5, 6, 4],\n",
        "     [2, 5, 6]]\n",
        "[a[1] for a in m] #Sacar datos en columnas"
      ],
      "execution_count": null,
      "outputs": [
        {
          "output_type": "execute_result",
          "data": {
            "text/plain": [
              "[8, 6, 5]"
            ]
          },
          "metadata": {
            "tags": []
          },
          "execution_count": 2
        }
      ]
    },
    {
      "cell_type": "code",
      "metadata": {
        "colab": {
          "base_uri": "https://localhost:8080/"
        },
        "id": "YNn56Bd2cC2k",
        "outputId": "6b7d3a54-d18b-404c-9a7f-9804c5b1dca3"
      },
      "source": [
        "m = [[9, 8, 7],\n",
        "     [5, 6, 4],\n",
        "     [2, 5, 6]]\n",
        "m[:]"
      ],
      "execution_count": null,
      "outputs": [
        {
          "output_type": "execute_result",
          "data": {
            "text/plain": [
              "[[9, 8, 7], [5, 6, 4], [2, 5, 6]]"
            ]
          },
          "metadata": {
            "tags": []
          },
          "execution_count": 14
        }
      ]
    },
    {
      "cell_type": "code",
      "metadata": {
        "colab": {
          "base_uri": "https://localhost:8080/"
        },
        "id": "JIL4SbkCk2gf",
        "outputId": "00092617-6f5a-4e75-e236-9515944284f7"
      },
      "source": [
        "array1=[1,2,3]\n",
        "array2=[3,2,1]\n",
        "array3=np.subtract(array2,array1)\n",
        "array3"
      ],
      "execution_count": null,
      "outputs": [
        {
          "output_type": "execute_result",
          "data": {
            "text/plain": [
              "array([ 2,  0, -2])"
            ]
          },
          "metadata": {
            "tags": []
          },
          "execution_count": 27
        }
      ]
    },
    {
      "cell_type": "code",
      "metadata": {
        "id": "H0w8uLjLhBq9"
      },
      "source": [
        "# 0 => baja\n",
        "# 1 => media\n",
        "# 2 => alta\n",
        "\n",
        "X = np.array([\n",
        "    [1000, 100, 4],\n",
        "    [10, 40, 1],\n",
        "    [1200, 20, 2],\n",
        "    [10, 10, 1]          \n",
        "])\n",
        "\n",
        "classes = [\n",
        "           2, #4\n",
        "           0, # 2\n",
        "           1, # 0.2\n",
        "           0, # 10\n",
        "]\n",
        "\n",
        "k = 3\n",
        "new_datapoint = [90, 80, 3]"
      ],
      "execution_count": null,
      "outputs": []
    },
    {
      "cell_type": "code",
      "metadata": {
        "colab": {
          "base_uri": "https://localhost:8080/"
        },
        "id": "zXfBcAczjIBm",
        "outputId": "e4142cfb-f9eb-428c-e01f-1ba36cadc3f0"
      },
      "source": [
        "\n",
        "\n",
        "a=np.sqrt((2)**2+(0)**2+(-2)**2)\n",
        "a"
      ],
      "execution_count": null,
      "outputs": [
        {
          "output_type": "execute_result",
          "data": {
            "text/plain": [
              "2.8284271247461903"
            ]
          },
          "metadata": {
            "tags": []
          },
          "execution_count": 22
        }
      ]
    },
    {
      "cell_type": "code",
      "metadata": {
        "colab": {
          "base_uri": "https://localhost:8080/"
        },
        "id": "cLjMCIfWkG1o",
        "outputId": "48de956f-25d2-4103-ff51-4508df8cd503"
      },
      "source": [
        "import numpy as np\n",
        "b=[2,0,-2]\n",
        "c=np.linalg.norm(b)\n",
        "c"
      ],
      "execution_count": null,
      "outputs": [
        {
          "output_type": "execute_result",
          "data": {
            "text/plain": [
              "2.8284271247461903"
            ]
          },
          "metadata": {
            "tags": []
          },
          "execution_count": 19
        }
      ]
    }
  ]
}